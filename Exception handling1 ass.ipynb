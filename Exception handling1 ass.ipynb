{
 "cells": [
  {
   "cell_type": "markdown",
   "id": "c9f57423-10b5-493a-8c48-d0758874802f",
   "metadata": {},
   "source": [
    "Q1. What is an Exception in python? Write the difference between Exceptions\n",
    "nd syntax errors"
   ]
  },
  {
   "cell_type": "markdown",
   "id": "feb9e352-06a7-49b8-bca9-8495b038ff00",
   "metadata": {},
   "source": [
    "When in the runtime an error that occurs after passing the syntax test is called exception or logical type. For example, when we divide any number by zero then the ZeroDivisionError exception is raised, or when we import a module that does not exist then ImportError is raised.\n",
    "\n",
    "Handling Exceptions with Try/Except/Finally \n",
    "We can handle errors by the Try/Except/Finally method. we write unsafe code in the try, fall back code in except and final code in finally block."
   ]
  },
  {
   "cell_type": "markdown",
   "id": "163def78-971f-4aa6-936c-fb121473aabb",
   "metadata": {},
   "source": [
    "#Difference between exception and syntax error\n",
    "\n",
    "An syntax error is an issue in a program that prevents the program from completing its task. In comparison, an exception is a condition that interrupts the normal flow of the program. Both errors and exceptions are a type of runtime error, which means they occur during the execution of a program. \n",
    "\n",
    "Python returns the offending line and displays a little ‘arrow’ pointing at the earliest point in the line where the error was detected.\n",
    "for example -\n",
    "If the error is detected at the function print(), since a colon (':') is missing before the print() function and after the while Truestatement. File name and line number are also printed so you know where to look in case the input came from a script.\n",
    "\n",
    "Exceptions- \n",
    "Even if a statement or expression is syntactically correct, it may cause an error when an attempt is made to execute it.\n",
    "\n",
    "Errors detected during code execution are called exceptions and are not unconditionally fatal. Most exceptions are not handled by programs,The last line of the error message indicates what happened. The types in the example are ZeroDivisionError, NameError and TypeError and so  on"
   ]
  },
  {
   "cell_type": "markdown",
   "id": "2d4cc5f4-99c5-4702-b66d-7879c29ad5c4",
   "metadata": {},
   "source": [
    "Q2. What happens when an exception is not handled? Explain with an example"
   ]
  },
  {
   "cell_type": "markdown",
   "id": "92bae794-e3a2-42bb-bcb3-dcacdbab8cc7",
   "metadata": {},
   "source": [
    "When an exception occurred, if you don’t handle it, the program terminates abruptly and the code paste the line that caused the error.\n",
    "\n",
    "exceptions abnormally terminate the execution of a program.This is why it is important to handle exceptions. In Python, we use the try...except block"
   ]
  },
  {
   "cell_type": "code",
   "execution_count": 1,
   "id": "0fc67c00-e159-4679-9f0c-23a3e36d1695",
   "metadata": {},
   "outputs": [
    {
     "ename": "ZeroDivisionError",
     "evalue": "division by zero",
     "output_type": "error",
     "traceback": [
      "\u001b[0;31m---------------------------------------------------------------------------\u001b[0m",
      "\u001b[0;31mZeroDivisionError\u001b[0m                         Traceback (most recent call last)",
      "Cell \u001b[0;32mIn[1], line 3\u001b[0m\n\u001b[1;32m      1\u001b[0m \u001b[38;5;66;03m#when exception is not handle \u001b[39;00m\n\u001b[1;32m      2\u001b[0m a \u001b[38;5;241m=\u001b[39m\u001b[38;5;241m10\u001b[39m\n\u001b[0;32m----> 3\u001b[0m division \u001b[38;5;241m=\u001b[39m \u001b[43ma\u001b[49m\u001b[38;5;241;43m/\u001b[39;49m\u001b[38;5;241;43m0\u001b[39;49m\n",
      "\u001b[0;31mZeroDivisionError\u001b[0m: division by zero"
     ]
    }
   ],
   "source": [
    "#when exception is not handle \n",
    "a =10\n",
    "division = a/0\n",
    "#this cause an error "
   ]
  },
  {
   "cell_type": "code",
   "execution_count": 24,
   "id": "324fbd92-8d5d-4dc5-aba6-2f2a748e71ae",
   "metadata": {},
   "outputs": [
    {
     "name": "stdout",
     "output_type": "stream",
     "text": [
      "Exception occurred: not able to divide any number by zero division by zero\n"
     ]
    }
   ],
   "source": [
    "# above code handled by exception by using try and except \n",
    "a =10\n",
    "try:\n",
    "    division = a/0\n",
    "except ZeroDivisionError as e:\n",
    "    print (\"Exception occurred: not able to divide any number by zero\", e)\n",
    "#so by this the code does'nt stop the execution of program "
   ]
  },
  {
   "cell_type": "markdown",
   "id": "204c700b-c9a5-449f-91f5-ec38072996b4",
   "metadata": {},
   "source": [
    "Q3- Which Python statements are used to catch and handle exceptions?Explain with an example."
   ]
  },
  {
   "cell_type": "markdown",
   "id": "d032fc2a-ec50-416e-8c03-2a9225fccaf7",
   "metadata": {},
   "source": [
    "The try and except block in Python is used to catch and handle exceptions. Python executes code following the try statement as a “normal” part of the program. The code that follows the except statement is the program’s response to any exceptions in the preceding try clause."
   ]
  },
  {
   "cell_type": "code",
   "execution_count": 25,
   "id": "76940754-1888-4869-9d1e-0ca2ae18ec59",
   "metadata": {},
   "outputs": [
    {
     "name": "stdout",
     "output_type": "stream",
     "text": [
      "Exception occurred: can't concatenate string and int together unsupported operand type(s) for +: 'int' and 'str'\n"
     ]
    }
   ],
   "source": [
    "#For example-\n",
    "x = 5\n",
    "y =\"hello\"\n",
    "try:\n",
    "    z = x+y\n",
    "    print (z)\n",
    "except TypeError as e :\n",
    "    print (\"Exception occurred: can't concatenate string and int together\", e)\n",
    "    "
   ]
  },
  {
   "cell_type": "markdown",
   "id": "69ed1f4a-c327-4b85-bde1-118ef699c752",
   "metadata": {},
   "source": [
    "Q4. Explain with an example:\n",
    "\n",
    "a. try nd else,  \n",
    "\n",
    "b. finally \n",
    "\n",
    "c. raise"
   ]
  },
  {
   "cell_type": "code",
   "execution_count": 26,
   "id": "fb8a686e-554d-4a18-bbe7-f966c2af714f",
   "metadata": {},
   "outputs": [
    {
     "name": "stdout",
     "output_type": "stream",
     "text": [
      "Exception occurred: can't divide by zero \n",
      "answer is  6.0\n"
     ]
    }
   ],
   "source": [
    "#for try and else block\n",
    "\n",
    "def divide(a,b):\n",
    "    try:\n",
    "        div = a/b \n",
    "    except ZeroDivisionError:\n",
    "        print(\"Exception occurred: can't divide by zero \")\n",
    "#if the statement is true so it comes in else block\n",
    "    else:\n",
    "        print (\"answer is \", div)\n",
    "\n",
    "divide(5,0)\n",
    "divide(12,2)\n",
    "    "
   ]
  },
  {
   "cell_type": "code",
   "execution_count": 27,
   "id": "830dc52d-0469-46e2-bf63-9a08ccd84103",
   "metadata": {},
   "outputs": [
    {
     "name": "stdout",
     "output_type": "stream",
     "text": [
      "Exception occurred: index is out of range\n",
      "this is a finally block it execute regardless of conditions, this always runs\n"
     ]
    }
   ],
   "source": [
    "# for finally block \n",
    "list1 = [23,45.4,\"shi\",True]\n",
    "try:\n",
    "    print (list1[5])\n",
    "except IndexError :\n",
    "    print(\"Exception occurred: index is out of range\")\n",
    "finally:\n",
    "    print (\"this is a finally block it execute regardless of conditions, this always runs\")\n",
    "    "
   ]
  },
  {
   "cell_type": "code",
   "execution_count": 51,
   "id": "40606dce-9717-47fe-8a1a-33c3e71f8070",
   "metadata": {},
   "outputs": [],
   "source": [
    "# for raise error\n"
   ]
  },
  {
   "cell_type": "code",
   "execution_count": 28,
   "id": "0784c9a3-617f-4c21-8077-221917113711",
   "metadata": {},
   "outputs": [
    {
     "name": "stdout",
     "output_type": "stream",
     "text": [
      "Exception occurred: value is low course price is invalid\n"
     ]
    }
   ],
   "source": [
    "def course_price(price):\n",
    "    if price<3000:\n",
    "        raise Exception (\"course price is invalid\")\n",
    "    else:\n",
    "        print (\"course price is \",price)\n",
    "try:\n",
    "    course_price(2000)\n",
    "except Exception as e:\n",
    "    print(\"Exception occurred: value is low\",e)\n"
   ]
  },
  {
   "cell_type": "markdown",
   "id": "be5d8a6f-6d51-42c4-9d64-927ac0e66ed0",
   "metadata": {},
   "source": [
    "Q5- What are Custom Exceptions in python? Why do we need Custom Exceptions? Explain with an example"
   ]
  },
  {
   "cell_type": "markdown",
   "id": "00823e1b-bd1b-4ae9-8e6a-e1c3d4d6b7a6",
   "metadata": {},
   "source": [
    "What are Custom Exceptions in python?\n",
    "\n",
    "Like standard exception classes, custom exceptions are also classes. Hence, you can add functionality to the custom exception classes like: Adding attributes and properties. Adding methods e.g., log the exception, format the output, etc."
   ]
  },
  {
   "cell_type": "markdown",
   "id": "c5692539-d304-40b0-8ee3-363114a470ce",
   "metadata": {},
   "source": [
    "Why do we need Custom Exceptions? \n",
    "Custom exceptions provide you the flexibility to add attributes and methods that are not part of a Exception. These can store additional information, like an application-specific error code, or provide utility methods that can be used to handle or present the exception to a user."
   ]
  },
  {
   "cell_type": "code",
   "execution_count": 9,
   "id": "5b2412b5-bd6d-4a6c-854c-dfa917ab701a",
   "metadata": {},
   "outputs": [],
   "source": [
    "#for Example-\n",
    "\n",
    "class CustomException(Exception):\n",
    "    \n",
    "    def __init__(self , msg) : \n",
    "        self.msg = msg"
   ]
  },
  {
   "cell_type": "code",
   "execution_count": 32,
   "id": "5857e82c-a29b-46f7-8769-7dcf0c8458f2",
   "metadata": {},
   "outputs": [],
   "source": [
    "def valid_age(age):\n",
    "    if age<18:\n",
    "        raise CustomException(\"entered age is lower than 18 \" )\n",
    "    elif age>100:\n",
    "        raise CustomException(\"entered age is higher than 100 \" )\n",
    "    else:\n",
    "        print(\"age is \",age)"
   ]
  },
  {
   "cell_type": "code",
   "execution_count": 33,
   "id": "b7a75ac7-573f-4769-8d0e-6df5dd016e74",
   "metadata": {},
   "outputs": [
    {
     "name": "stdin",
     "output_type": "stream",
     "text": [
      "enter your age 2\n"
     ]
    },
    {
     "name": "stdout",
     "output_type": "stream",
     "text": [
      "Exception occurred: age is invalid entered age is lower than 18 \n"
     ]
    }
   ],
   "source": [
    "try:\n",
    "    age = int(input(\"enter your age\" ))\n",
    "    valid_age(age)\n",
    "except CustomException as e:\n",
    "    print(\"Exception occurred: age is invalid\",e)\n",
    "    \n"
   ]
  },
  {
   "cell_type": "markdown",
   "id": "d8162631-df1b-48a5-b240-11767e28d456",
   "metadata": {},
   "source": [
    "Q6. Create a custom exception class. Use this class to handle an exception."
   ]
  },
  {
   "cell_type": "code",
   "execution_count": 14,
   "id": "5ae8b2d9-9ddb-46a4-9013-a316102cad36",
   "metadata": {},
   "outputs": [],
   "source": [
    "class SalaryValidate(Exception):\n",
    "    def __init__(self,message):\n",
    "        self.message = message # salary is in the range between 25000 to 50000\n",
    "    "
   ]
  },
  {
   "cell_type": "code",
   "execution_count": 34,
   "id": "94bf13e5-769a-4b68-8c68-5e699d075af8",
   "metadata": {},
   "outputs": [],
   "source": [
    "def salary_range(salary):\n",
    "    if salary>50000:\n",
    "        raise SalaryValidate (\"Exception occurred: Salary is too high\")\n",
    "    elif salary<25000:\n",
    "        raise SalaryValidate (\"Exception occurred: Salary is too low\")\n",
    "    else:\n",
    "        print (\"salary is \", salary) "
   ]
  },
  {
   "cell_type": "code",
   "execution_count": 35,
   "id": "646e89ac-227a-4fed-9c1a-480e3fac74f5",
   "metadata": {},
   "outputs": [
    {
     "name": "stdin",
     "output_type": "stream",
     "text": [
      "Enter salary 3000\n"
     ]
    },
    {
     "name": "stdout",
     "output_type": "stream",
     "text": [
      "Exception occurred: Salary is too low\n"
     ]
    }
   ],
   "source": [
    "try:\n",
    "    salary = int(input(\"Enter salary\"))\n",
    "    salary_range(salary)\n",
    "except SalaryValidate as e:\n",
    "    print(e)"
   ]
  },
  {
   "cell_type": "code",
   "execution_count": null,
   "id": "366412f9-0337-47d2-8cbd-2aaec478e0ff",
   "metadata": {},
   "outputs": [],
   "source": []
  }
 ],
 "metadata": {
  "kernelspec": {
   "display_name": "Python 3 (ipykernel)",
   "language": "python",
   "name": "python3"
  },
  "language_info": {
   "codemirror_mode": {
    "name": "ipython",
    "version": 3
   },
   "file_extension": ".py",
   "mimetype": "text/x-python",
   "name": "python",
   "nbconvert_exporter": "python",
   "pygments_lexer": "ipython3",
   "version": "3.10.8"
  }
 },
 "nbformat": 4,
 "nbformat_minor": 5
}
